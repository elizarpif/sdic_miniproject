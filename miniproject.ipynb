{
 "cells": [
  {
   "cell_type": "markdown",
   "id": "c5895856",
   "metadata": {},
   "source": [
    "# Mice and the wolf"
   ]
  },
  {
   "cell_type": "markdown",
   "id": "1059cf2f-c0e5-4f50-8265-08c9dcdd892c",
   "metadata": {},
   "source": [
    "Miniproject by Alexandra Bereznikova, Anna Logetskaia, Elizaveta Pivovarova."
   ]
  },
  {
   "cell_type": "markdown",
   "id": "e878a722",
   "metadata": {},
   "source": [
    "Opening the python session and importing the libs:"
   ]
  },
  {
   "cell_type": "code",
   "execution_count": 1,
   "id": "ffc79302-96d3-457d-9fef-653a10939b20",
   "metadata": {},
   "outputs": [],
   "source": [
    "from simulator_interface import open_session, close_session\n",
    "simulator, epuck1, epuck2, epuck3 = open_session(n_epucks=3)\n",
    "\n",
    "import matplotlib.pyplot as plt"
   ]
  },
  {
   "cell_type": "markdown",
   "id": "9ec1595b",
   "metadata": {},
   "source": [
    "Leaving the close_session code for debug purposes."
   ]
  },
  {
   "cell_type": "code",
   "execution_count": null,
   "id": "c5e7dde9-68fe-4c21-832b-ccbc4d081a28",
   "metadata": {},
   "outputs": [],
   "source": [
    "close_session(simulator)"
   ]
  },
  {
   "cell_type": "markdown",
   "id": "a0431975",
   "metadata": {},
   "source": [
    "## Experiment 1"
   ]
  },
  {
   "cell_type": "markdown",
   "id": "f1fcde36",
   "metadata": {},
   "source": [
    "In the first experiment, we will add the two mice and the wolf on the scene. \n",
    "The mice will be constantly moving around the scene and eating spheres, while the wolf will be moving around the scene and chasing them on detection. \n",
    "If the mouse is too hungry, then the foraging behavior will outweigh its fear towards the wolf."
   ]
  },
  {
   "cell_type": "markdown",
   "id": "a7de343b",
   "metadata": {},
   "source": [
    "1. Setting up the agents – two mice and the wolf:"
   ]
  },
  {
   "cell_type": "code",
   "execution_count": 2,
   "id": "035877f2-1ca2-4c78-8bcd-bfbe5aac840f",
   "metadata": {},
   "outputs": [
    {
     "name": "stdout",
     "output_type": "stream",
     "text": [
      "Routine die started\n",
      "Routine epuck_log started\n",
      "Routine foraging_drive started\n",
      "Behavior obstacle_avoidance started\n",
      "Behavior foraging_spheres started\n",
      "Behavior fear started\n",
      "Routine epuck_log started\n",
      "Routine die started\n",
      "Routine foraging_drive started\n",
      "Behavior obstacle_avoidance started\n",
      "Behavior foraging_spheres started\n",
      "Behavior fear started\n"
     ]
    }
   ],
   "source": [
    "epuck1.species = \"mouse\"\n",
    "epuck1.id=1\n",
    "epuck1.dead=False\n",
    "epuck1.speed = 0.9\n",
    "\n",
    "epuck2.species = \"mouse\"\n",
    "epuck2.id=2\n",
    "epuck2.dead=False\n",
    "epuck2.speed = 0.9\n",
    "\n",
    "epuck3.species = \"wolf\"\n",
    "epuck3.speed = 0.2\n",
    "epuck3.dead=False\n",
    "\n",
    "epuck1.energy_level = 1\n",
    "epuck2.energy_level = 1 \n",
    "epuck3.energy_level = 1 "
   ]
  },
  {
   "cell_type": "markdown",
   "id": "5dd88ad4",
   "metadata": {},
   "source": [
    "2. Defining routines and behaviors for the mice."
   ]
  },
  {
   "cell_type": "code",
   "execution_count": null,
   "id": "61399204",
   "metadata": {},
   "outputs": [],
   "source": [
    "# Foraging routine is used to constantly change the energy level depending on whether the mouse has eaten\n",
    "def foraging_drive(robot): \n",
    "    if robot.dead: \n",
    "        return # If the mouse is dead, the energy level stays static    \n",
    "    if robot.has_eaten():\n",
    "        robot.energy_level += 0.2  # If the mouse has eaten a sphere, increase its energy level by 0.2\n",
    "    else:\n",
    "        robot.energy_level -= 0.01  # Otherwise (nothing eaten), decrease the energy level by 0.01\n",
    "    # The line below bounds the value of the energy level between 0 and 1\n",
    "    robot.energy_level = min(1., max(robot.energy_level, 0.))\n",
    "    \n",
    "\n",
    "# Foraging behavior is used to ensure that the mouse is looking for spheres to eat\n",
    "def foraging_spheres(robot):\n",
    "    if robot.dead==True:\n",
    "        return 0,0,1 # If the mouse is dead, the mouse stays static with the energy level 0  \n",
    "    left, right = robot.prox_activations(tracked_objects=[\"Sphere\"])\n",
    "    left_activation = right\n",
    "    right_activation = left\n",
    "    return left_activation, right_activation, 1-robot.energy_level\n",
    "\n",
    "# Obstacle avoidance behavior is used to ensure that the mouse keeps moving around the scene\n",
    "def obstacle_avoidance(robot):\n",
    "    if robot.dead==True:\n",
    "        return 0,0,1\n",
    "    left, right = robot.prox_activations(tracked_objects=[\"20cm\", \"Tree\", \"ePuck\"]) # Avoid walls, trees and the other agents\n",
    "    left_wheel = 1 - right\n",
    "    right_wheel = 1 - left   \n",
    "    return left_wheel, right_wheel, robot.energy_level\n",
    "\n",
    "# Fear behavior is used to ensure that the mouse stays away from the wolf\n",
    "def fear(robot):\n",
    "    if robot.dead==True:\n",
    "        return 0,0,1 # If the mouse is dead, the mouse stays static with the energy level 0  \n",
    "    (left, right), (epuck_left, epuck_right) = robot.prox_activations(tracked_objects=[\"ePuck\"], return_epucks=True)\n",
    "    left_species, right_species = robot.sensed_epuck_attributes(epuck_left, epuck_right, \"species\", default_value =\"none\")\n",
    "    # If the wolf is detected from the left or from the right, turn in the opposite direction. \n",
    "    left_activation = left if left_species == \"wolf\" else 0\n",
    "    right_activation = right if right_species == \"wolf\" else 0\n",
    "    return left_activation, right_activation, robot.energy_level\n",
    "\n",
    "# Die routine is used to block the mouse in place if it was eaten by a wolf\n",
    "def die(robot):\n",
    "    if robot.dead == True:\n",
    "        robot.left_spd = 0\n",
    "        robot.right_spd = 0\n",
    "\n",
    "# Log routine is used to log the mouse energy level and dead / alive status\n",
    "def epuck_log(robot):\n",
    "    robot.add_log(\"energy_level\", robot.energy_level)\n",
    "    robot.add_log(\"alive\", not robot.dead)"
   ]
  },
  {
   "cell_type": "markdown",
   "id": "fe89625f",
   "metadata": {},
   "source": [
    "3. Attach behaviors and routines to the mice and start them on the scene."
   ]
  },
  {
   "cell_type": "code",
   "execution_count": null,
   "id": "1a5437f0",
   "metadata": {},
   "outputs": [],
   "source": [
    "epuck1.detach_all_behaviors()\n",
    "epuck1.detach_all_routines()\n",
    "epuck1.attach_behavior(obstacle_avoidance, freq=10)\n",
    "epuck1.attach_behavior(foraging_spheres, freq=10)\n",
    "epuck1.attach_behavior(fear, freq=10)\n",
    "epuck1.attach_routine(die, freq=10)\n",
    "epuck1.attach_routine(epuck_log, freq=1)\n",
    "epuck1.attach_routine(foraging_drive, freq=1)\n",
    "epuck1.start_all_routines()\n",
    "epuck1.start_all_behaviors()\n",
    "\n",
    "epuck2.detach_all_behaviors()\n",
    "epuck2.detach_all_routines()\n",
    "epuck2.attach_behavior(obstacle_avoidance, freq=10)\n",
    "epuck2.attach_behavior(foraging_spheres, freq=10)\n",
    "epuck2.attach_behavior(fear, freq=10)\n",
    "epuck2.attach_routine(epuck_log, freq=1)\n",
    "epuck2.attach_routine(die, freq=10)\n",
    "epuck2.attach_routine(foraging_drive, freq=1)\n",
    "epuck2.start_all_routines()\n",
    "epuck2.start_all_behaviors()"
   ]
  },
  {
   "cell_type": "markdown",
   "id": "daa319d7",
   "metadata": {},
   "source": [
    "4. Watching how the mice are moving around the scene while changing their energy level. Now trying with the first mouse."
   ]
  },
  {
   "cell_type": "code",
   "execution_count": 4,
   "id": "4450f231",
   "metadata": {},
   "outputs": [
    {
     "data": {
      "text/plain": [
       "Text(0, 0.5, 'energy_level')"
      ]
     },
     "execution_count": 4,
     "metadata": {},
     "output_type": "execute_result"
    },
    {
     "data": {
      "image/png": "[encoded data removed]",
      "text/plain": [
       "<Figure size 640x480 with 1 Axes>"
      ]
     },
     "metadata": {},
     "output_type": "display_data"
    }
   ],
   "source": [
    "plt.plot(epuck1.get_log(\"energy_level\"))\n",
    "plt.plot(epuck1.get_log(\"alive\"))\n",
    "\n",
    "plt.xlabel('Time (s)')\n",
    "plt.ylabel('Energy level')"
   ]
  },
  {
   "cell_type": "markdown",
   "id": "414e6b7e",
   "metadata": {},
   "source": [
    "5. Adding food to the scene. "
   ]
  },
  {
   "cell_type": "code",
   "execution_count": null,
   "id": "32ab45ee",
   "metadata": {},
   "outputs": [],
   "source": [
    "simulator.start_sphere_apparition(period=5, min_pos=[-1.43,-0.75,0], max_pos=[0.81,0.94,0])"
   ]
  },
  {
   "cell_type": "markdown",
   "id": "2e9a1250",
   "metadata": {},
   "source": [
    "Leaving the stop_sphere_apparition code for debug purposes. "
   ]
  },
  {
   "cell_type": "code",
   "execution_count": null,
   "id": "140a4859",
   "metadata": {},
   "outputs": [],
   "source": [
    "simulator.stop_sphere_apparition()"
   ]
  },
  {
   "cell_type": "markdown",
   "id": "adc32ec0",
   "metadata": {},
   "source": [
    "6. Watching how the mice are moving around the scene and eating speheres – energy level is now increasing at the moment of foraging. Now trying with the second mouse."
   ]
  },
  {
   "cell_type": "code",
   "execution_count": 5,
   "id": "c81c3945",
   "metadata": {},
   "outputs": [
    {
     "data": {
      "text/plain": [
       "Text(0, 0.5, 'energy_level')"
      ]
     },
     "execution_count": 5,
     "metadata": {},
     "output_type": "execute_result"
    },
    {
     "data": {
      "image/png": "[encoded data removed]",
      "text/plain": [
       "<Figure size 640x480 with 1 Axes>"
      ]
     },
     "metadata": {},
     "output_type": "display_data"
    }
   ],
   "source": [
    "plt.plot(epuck2.get_log(\"energy_level\"))\n",
    "plt.plot(epuck2.get_log(\"alive\"))\n",
    "\n",
    "plt.xlabel('Time (s)')\n",
    "plt.ylabel('Energy level')"
   ]
  },
  {
   "cell_type": "markdown",
   "id": "9c7538a0",
   "metadata": {},
   "source": [
    "7. Defining routines and behaviors for the wolf."
   ]
  },
  {
   "cell_type": "code",
   "execution_count": 6,
   "id": "3e56e113",
   "metadata": {},
   "outputs": [
    {
     "name": "stdout",
     "output_type": "stream",
     "text": [
      "Behavior wolf_obstacle_avoidance started\n",
      "Behavior aggression started\n",
      "Routine wolf_foraging_drive started\n",
      "Routine kill started\n"
     ]
    }
   ],
   "source": [
    "# Obstacle avoidance behavior is used to ensure that the wolf keeps moving around the scene\n",
    "# Unlike the mice, the wolf should not avoid the mice \n",
    "def wolf_obstacle_avoidance(robot):\n",
    "    left, right = robot.prox_activations(tracked_objects=[\"20cm\", \"Tree\"])\n",
    "    left_wheel = 1 - right\n",
    "    right_wheel = 1 - left   \n",
    "    return left_wheel, right_wheel, 1\n",
    "\n",
    "# Aggression behavior is used to ensure that the wolf haunts the mice\n",
    "def aggression(robot):\n",
    "    (left, right), (epuck_left, epuck_right) = robot.prox_activations(tracked_objects=[\"ePuck\"], return_epucks=True)\n",
    "    left_is_dead, right_is_dead = robot.sensed_epuck_attributes(epuck_left, epuck_right, \"dead\", default_value =\"none\")\n",
    "    \n",
    "    left_wheel = left\n",
    "    right_wheel = right\n",
    "    \n",
    "    # Do not haunt the dead mice\n",
    "    if left_is_dead == False:\n",
    "        return right_wheel,left_wheel, 1\n",
    "    if right_is_dead == False:\n",
    "        return right_wheel,left_wheel, 1\n",
    "    return left_wheel, right_wheel, 1\n",
    "\n",
    "# Foraging routine is used to constantly decrease the energy level of the wolf\n",
    "def wolf_foraging_drive(robot): \n",
    "    robot.energy_level -= 0.01\n",
    "    robot.energy_level = min(1., max(robot.energy_level, 0.))\n",
    "    \n",
    "# Kill routine is used to set mouse.dead parameter to true in case it was \"caught\" by a wolf\n",
    "def kill(robot):\n",
    "    (left, right), (epuck_left, epuck_right) = robot.prox_activations(tracked_objects=[\"ePuck\"], return_epucks=True)\n",
    "    if left > 0.95 and left != None:\n",
    "        epuck_left.dead=True\n",
    "        robot.energy_level = min(0.7, robot.energy_level+0.5)\n",
    "    if right > 0.95 and right != None:\n",
    "        epuck_right.dead=True\n",
    "        robot.energy_level = min(0.7, robot.energy_level+0.5)"
   ]
  },
  {
   "cell_type": "markdown",
   "id": "160f6f05",
   "metadata": {},
   "source": [
    "8. Attach behaviors and routines to the wolf and start it on the scene."
   ]
  },
  {
   "cell_type": "code",
   "execution_count": null,
   "id": "e06f040b",
   "metadata": {},
   "outputs": [],
   "source": [
    "epuck3.detach_all_behaviors()\n",
    "epuck3.detach_all_routines()\n",
    "epuck3.attach_behavior(wolf_obstacle_avoidance, freq=10)\n",
    "epuck3.attach_routine(wolf_foraging_drive, freq=1)\n",
    "epuck3.attach_behavior(aggression, freq=10)\n",
    "epuck3.attach_routine(kill, freq=10)\n",
    "epuck3.start_all_behaviors()\n",
    "epuck3.start_all_routines()"
   ]
  },
  {
   "cell_type": "markdown",
   "id": "37f433d0",
   "metadata": {},
   "source": [
    "## Experiment 2"
   ]
  },
  {
   "cell_type": "markdown",
   "id": "df749b0b",
   "metadata": {},
   "source": [
    "In the second experiment, we will add speed control to the wolf and the mice to balance their chances to survive.\n",
    "The mouse will speed up if it is hungry, while the wolf will slow down if it is hungry. "
   ]
  },
  {
   "cell_type": "markdown",
   "id": "13ea5dd1",
   "metadata": {},
   "source": [
    "1. Adding the speed control and update the logs of the mice."
   ]
  },
  {
   "cell_type": "code",
   "execution_count": null,
   "id": "fa864cb8",
   "metadata": {},
   "outputs": [],
   "source": [
    "# Speed control routine is needed to change the speed proportionally to the mouse energy level\n",
    "# If the mouse \"overate\", the speed is lower\n",
    "def speed_control(robot): \n",
    "    if robot.dead: # If the robot is dead, the speed does not change\n",
    "        return    \n",
    "    if robot.energy_level > 0.4: \n",
    "        # Max speed depends on the energy level and changes in the interval (0.5, 0.9)             \n",
    "        robot.max_speed = 1-robot.energy_level+0.1\n",
    "        \n",
    "# Log routine now writes the current max speed     \n",
    "def epuck_log(robot):\n",
    "    robot.add_log(\"energy_level\", robot.energy_level)\n",
    "    robot.add_log(\"alive\", not robot.dead)\n",
    "    robot.add_log(\"max_speed\", robot.max_speed)"
   ]
  },
  {
   "cell_type": "markdown",
   "id": "92f93b51",
   "metadata": {},
   "source": [
    "2. Adding the speed control and set the logs of the wolf."
   ]
  },
  {
   "cell_type": "code",
   "execution_count": 7,
   "id": "0389088c",
   "metadata": {},
   "outputs": [
    {
     "name": "stdout",
     "output_type": "stream",
     "text": [
      "Routine die started\n",
      "Routine epuck_log started\n",
      "Routine foraging_drive started\n",
      "Behavior obstacle_avoidance started\n",
      "Behavior foraging_spheres started\n",
      "Behavior fear started\n",
      "Routine epuck_log started\n",
      "Routine die started\n",
      "Routine speed_control started\n",
      "Routine foraging_drive started\n",
      "Behavior obstacle_avoidance started\n",
      "Behavior foraging_spheres started\n",
      "Behavior fear started\n",
      "Behavior wolf_obstacle_avoidance started\n",
      "Behavior aggression started\n",
      "Routine wolf_epuck_log started\n",
      "Routine wolf_foraging_drive started\n",
      "Routine wolf_speed_control started\n",
      "Routine kill started\n"
     ]
    }
   ],
   "source": [
    "# Speed control routine is needed to change the speed proportionally to the wolf energy level\n",
    "# If the wolf is hungry, the speed is lower\n",
    "def wolf_speed_control(robot): \n",
    "    # Max speed depends on the energy level and changes in the interval (0.1, 0.7)     \n",
    "    if robot.energy_level > 0.4 and robot.energy_level < 0.7:\n",
    "        robot.max_speed = robot.energy_level\n",
    "\n",
    "# Log routine is used to log the wolf energy level and current max speed\n",
    "def wolf_epuck_log(robot):\n",
    "    robot.add_log(\"energy_level\", robot.energy_level)\n",
    "    robot.add_log(\"max_speed\", robot.max_speed)"
   ]
  },
  {
   "cell_type": "markdown",
   "id": "2a2021f2",
   "metadata": {},
   "source": [
    "3. Setting up the mice and wolf, update their behaviors and routines and start them on the scene."
   ]
  },
  {
   "cell_type": "code",
   "execution_count": null,
   "id": "65910431",
   "metadata": {},
   "outputs": [],
   "source": [
    "epuck1.energy_level = 0.9\n",
    "epuck2.energy_level = 0.9 \n",
    "epuck3.energy_level = 0.7 \n",
    "\n",
    "epuck1.detach_all_behaviors()\n",
    "epuck1.detach_all_routines()\n",
    "epuck1.attach_behavior(obstacle_avoidance, freq=10)\n",
    "epuck1.attach_behavior(foraging_spheres, freq=10)\n",
    "epuck1.attach_behavior(fear, freq=10)\n",
    "epuck1.attach_routine(die, freq=10)\n",
    "epuck2.attach_routine(speed_control, freq=1)\n",
    "epuck1.attach_routine(epuck_log, freq=1)\n",
    "epuck1.attach_routine(foraging_drive, freq=1)\n",
    "epuck1.start_all_routines()\n",
    "epuck1.start_all_behaviors()\n",
    "\n",
    "epuck2.detach_all_behaviors()\n",
    "epuck2.detach_all_routines()\n",
    "epuck2.attach_behavior(obstacle_avoidance, freq=10)\n",
    "epuck2.attach_behavior(foraging_spheres, freq=10)\n",
    "epuck2.attach_behavior(fear, freq=10)\n",
    "epuck2.attach_routine(epuck_log, freq=1)\n",
    "epuck2.attach_routine(die, freq=10)\n",
    "epuck2.attach_routine(speed_control, freq=1)\n",
    "epuck2.attach_routine(foraging_drive, freq=1)\n",
    "epuck2.start_all_routines()\n",
    "epuck2.start_all_behaviors()\n",
    "\n",
    "epuck3.detach_all_behaviors()\n",
    "epuck3.detach_all_routines()\n",
    "epuck3.attach_behavior(wolf_obstacle_avoidance, freq=10)\n",
    "epuck3.attach_behavior(aggression, freq=10)\n",
    "epuck3.attach_routine(wolf_epuck_log, freq=1)\n",
    "epuck3.attach_routine(wolf_foraging_drive, freq=1)\n",
    "epuck3.attach_routine(wolf_speed_control, freq=1)\n",
    "epuck3.attach_routine(kill, freq=10)\n",
    "epuck3.start_all_behaviors()\n",
    "epuck3.start_all_routines()"
   ]
  },
  {
   "cell_type": "markdown",
   "id": "fb3cabf9",
   "metadata": {},
   "source": [
    "3. Watching how the mice are moving around the scene with energy level changing and max speed changing accordingly."
   ]
  },
  {
   "cell_type": "code",
   "execution_count": null,
   "id": "1387cfaf",
   "metadata": {},
   "outputs": [],
   "source": [
    "plt.plot(epuck1.get_log(\"energy_level\"))\n",
    "plt.plot(epuck1.get_log(\"alive\"))\n",
    "plt.plot(epuck1.get_log(\"max_speed\"))\n",
    "\n",
    "plt.xlabel('Time (s)')\n",
    "plt.ylabel('Energy level')"
   ]
  },
  {
   "cell_type": "code",
   "execution_count": null,
   "id": "e420b524",
   "metadata": {},
   "outputs": [],
   "source": [
    "plt.plot(epuck2.get_log(\"energy_level\"))\n",
    "plt.plot(epuck2.get_log(\"alive\"))\n",
    "plt.plot(epuck2.get_log(\"max_speed\"))\n",
    "\n",
    "plt.xlabel('Time (s)')\n",
    "plt.ylabel('Energy level')"
   ]
  },
  {
   "cell_type": "markdown",
   "id": "bd92d506",
   "metadata": {},
   "source": [
    "4. Watching how the wolf is moving around the scene with energy level changing and max speed changing accordingly."
   ]
  },
  {
   "cell_type": "code",
   "execution_count": null,
   "id": "a1429aed",
   "metadata": {},
   "outputs": [],
   "source": [
    "plt.plot(epuck3.get_log(\"energy_level\"))\n",
    "plt.plot(epuck3.get_log(\"max_speed\"))\n",
    "\n",
    "plt.xlabel('Time (s)')\n",
    "plt.ylabel('Energy level')"
   ]
  },
  {
   "cell_type": "markdown",
   "id": "822049b7",
   "metadata": {},
   "source": [
    "# Future work"
   ]
  },
  {
   "cell_type": "code",
   "execution_count": null,
   "id": "82fe78c8",
   "metadata": {},
   "outputs": [],
   "source": []
  }
 ],
 "metadata": {
  "kernelspec": {
   "display_name": "Python 3 (ipykernel)",
   "language": "python",
   "name": "python3"
  },
  "language_info": {
   "codemirror_mode": {
    "name": "ipython",
    "version": 3
   },
   "file_extension": ".py",
   "mimetype": "text/x-python",
   "name": "python",
   "nbconvert_exporter": "python",
   "pygments_lexer": "ipython3",
   "version": "3.11.5"
  }
 },
 "nbformat": 4,
 "nbformat_minor": 5
}
