{
 "cells": [
  {
   "cell_type": "markdown",
   "id": "93a4c156-ad3f-4b38-9aba-73e51f51d27b",
   "metadata": {},
   "source": [
    "# Mini project"
   ]
  },
  {
   "cell_type": "code",
   "execution_count": 2,
   "id": "e0c97c11-301c-463d-a4ec-388fff71df99",
   "metadata": {},
   "outputs": [],
   "source": [
    "def obstacle_avoidance(robot):\n",
    "    left, right = robot.prox_activations(tracked_objects=[\"20cm\"])\n",
    "    left_wheel = 1 - right\n",
    "    right_wheel = 1 - left   \n",
    "    return left_wheel, right_wheel\n",
    "\n",
    "def line_following(robot):\n",
    "    left, middle, right = robot.floor_sensor()\n",
    "    left_wheel = 1 - right\n",
    "    right_wheel = 1 - left   \n",
    "    return right_wheel, left_wheel\n",
    "\n",
    "def fear(robot):\n",
    "    left, right = robot.prox_activations(tracked_objects=[\"ePuck\"])\n",
    "    left_wheel = left\n",
    "    right_wheel = right\n",
    "    return left_wheel, right_wheel\n",
    "\n",
    "def aggression(robot):\n",
    "    left, right = robot.prox_activations(tracked_objects=[\"ePuck\"])\n",
    "    left_wheel = right\n",
    "    right_wheel = left\n",
    "    return left_wheel, right_wheel"
   ]
  },
  {
   "cell_type": "code",
   "execution_count": 1,
   "id": "1dad701d-e071-4189-9be7-be85cced9d2e",
   "metadata": {},
   "outputs": [],
   "source": [
    "from simulator_interface import open_session, close_session\n",
    "simulator, epuck1, epuck2, epuck3 = open_session(n_epucks=3)"
   ]
  },
  {
   "cell_type": "code",
   "execution_count": 2,
   "id": "d52419e8-0322-4e1a-89a5-12b93d084009",
   "metadata": {},
   "outputs": [
    {
     "ename": "NameError",
     "evalue": "name 'simulator' is not defined",
     "output_type": "error",
     "traceback": [
      "\u001b[1;31m---------------------------------------------------------------------------\u001b[0m",
      "\u001b[1;31mNameError\u001b[0m                                 Traceback (most recent call last)",
      "Cell \u001b[1;32mIn[2], line 1\u001b[0m\n\u001b[1;32m----> 1\u001b[0m close_session(\u001b[43msimulator\u001b[49m)\n",
      "\u001b[1;31mNameError\u001b[0m: name 'simulator' is not defined"
     ]
    }
   ],
   "source": [
    "close_session(simulator)"
   ]
  },
  {
   "cell_type": "code",
   "execution_count": 3,
   "id": "49f6254e-2ca9-436c-ac7c-048b9a2ed761",
   "metadata": {},
   "outputs": [
    {
     "name": "stdout",
     "output_type": "stream",
     "text": [
      "Behavior obstacle_avoidance started\n",
      "Behavior obstacle_avoidance started\n",
      "Behavior obstacle_avoidance started\n",
      "Behavior aggression started\n",
      "Behavior obstacle_avoidance started\n"
     ]
    }
   ],
   "source": [
    "for e in simulator.robots:\n",
    "    e.detach_all_behaviors()\n",
    "    e.attach_behavior(obstacle_avoidance, freq=10)\n",
    "    e.start_all_behaviors()\n",
    "    \n",
    "epuck1.detach_all_behaviors()\n",
    "epuck1.attach_behavior(aggression, freq=10)\n",
    "epuck1.attach_behavior(obstacle_avoidance, freq=10)\n",
    "epuck1.start_all_behaviors()"
   ]
  },
  {
   "cell_type": "code",
   "execution_count": 6,
   "id": "784f28a6-e9b9-45b4-ad70-5c38e63a8f9d",
   "metadata": {},
   "outputs": [],
   "source": []
  },
  {
   "cell_type": "code",
   "execution_count": null,
   "id": "fcee318a-8995-4823-ac54-d67386d92774",
   "metadata": {},
   "outputs": [],
   "source": []
  }
 ],
 "metadata": {
  "kernelspec": {
   "display_name": "Python 3 (ipykernel)",
   "language": "python",
   "name": "python3"
  },
  "language_info": {
   "codemirror_mode": {
    "name": "ipython",
    "version": 3
   },
   "file_extension": ".py",
   "mimetype": "text/x-python",
   "name": "python",
   "nbconvert_exporter": "python",
   "pygments_lexer": "ipython3",
   "version": "3.10.4"
  }
 },
 "nbformat": 4,
 "nbformat_minor": 5
}
